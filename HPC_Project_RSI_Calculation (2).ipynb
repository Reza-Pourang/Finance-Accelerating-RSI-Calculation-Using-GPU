{
  "nbformat": 4,
  "nbformat_minor": 0,
  "metadata": {
    "colab": {
      "provenance": [],
      "gpuType": "T4"
    },
    "kernelspec": {
      "name": "python3",
      "display_name": "Python 3"
    },
    "language_info": {
      "name": "python"
    },
    "accelerator": "GPU"
  },
  "cells": [
    {
      "cell_type": "code",
      "execution_count": null,
      "metadata": {
        "id": "3RYl7wp2VO-T"
      },
      "outputs": [],
      "source": [
        "#Import necessary libraries\n",
        "\n",
        "import pandas as pd\n",
        "import numpy as np\n",
        "import numba as nb"
      ]
    },
    {
      "cell_type": "code",
      "source": [
        "#Load the dataset\n",
        "from google.colab import drive\n",
        "drive.mount('/content/drive')\n",
        "Data = pd.read_csv('/content/drive/MyDrive/Colab Notebooks/EURUSD1.csv', sep=\"\\t\", header=None)\n",
        "Data.columns = [\"Time\", \"Open\", \"High\", \"Low\", \"Close\", \"Volume\"]"
      ],
      "metadata": {
        "colab": {
          "base_uri": "https://localhost:8080/"
        },
        "id": "t6nav5DSWH2t",
        "outputId": "2bee65df-7a2e-4e87-dac7-146bea1d5fda"
      },
      "execution_count": null,
      "outputs": [
        {
          "output_type": "stream",
          "name": "stdout",
          "text": [
            "Mounted at /content/drive\n"
          ]
        }
      ]
    },
    {
      "cell_type": "code",
      "source": [
        "#Initial check\n",
        "print(Data.head(10))\n",
        "print('\\n')\n",
        "print(Data.dtypes)\n",
        "print('\\n')\n",
        "print(Data.info())\n",
        "print('\\n')\n",
        "print(Data.isnull().sum())\n",
        "print('\\n')\n",
        "print(Data.duplicated().sum())"
      ],
      "metadata": {
        "colab": {
          "base_uri": "https://localhost:8080/"
        },
        "id": "VOgMo2bPWWlp",
        "outputId": "923957ca-d868-484d-cbdc-114901308810"
      },
      "execution_count": null,
      "outputs": [
        {
          "output_type": "stream",
          "name": "stdout",
          "text": [
            "               Time     Open     High      Low    Close  Volume\n",
            "0  2024-06-12 10:22  1.07518  1.07519  1.07511  1.07518     146\n",
            "1  2024-06-12 10:23  1.07517  1.07521  1.07515  1.07519     104\n",
            "2  2024-06-12 10:24  1.07518  1.07524  1.07517  1.07522      83\n",
            "3  2024-06-12 10:25  1.07521  1.07524  1.07516  1.07517     115\n",
            "4  2024-06-12 10:26  1.07519  1.07535  1.07519  1.07529     110\n",
            "5  2024-06-12 10:27  1.07530  1.07530  1.07524  1.07530      50\n",
            "6  2024-06-12 10:28  1.07532  1.07537  1.07529  1.07534      53\n",
            "7  2024-06-12 10:29  1.07534  1.07537  1.07534  1.07536      44\n",
            "8  2024-06-12 10:30  1.07537  1.07543  1.07537  1.07541      47\n",
            "9  2024-06-12 10:31  1.07540  1.07546  1.07537  1.07540      33\n",
            "\n",
            "\n",
            "Time       object\n",
            "Open      float64\n",
            "High      float64\n",
            "Low       float64\n",
            "Close     float64\n",
            "Volume      int64\n",
            "dtype: object\n",
            "\n",
            "\n",
            "<class 'pandas.core.frame.DataFrame'>\n",
            "RangeIndex: 195544 entries, 0 to 195543\n",
            "Data columns (total 6 columns):\n",
            " #   Column  Non-Null Count   Dtype  \n",
            "---  ------  --------------   -----  \n",
            " 0   Time    195544 non-null  object \n",
            " 1   Open    195544 non-null  float64\n",
            " 2   High    195544 non-null  float64\n",
            " 3   Low     195544 non-null  float64\n",
            " 4   Close   195544 non-null  float64\n",
            " 5   Volume  195544 non-null  int64  \n",
            "dtypes: float64(4), int64(1), object(1)\n",
            "memory usage: 9.0+ MB\n",
            "None\n",
            "\n",
            "\n",
            "Time      0\n",
            "Open      0\n",
            "High      0\n",
            "Low       0\n",
            "Close     0\n",
            "Volume    0\n",
            "dtype: int64\n",
            "\n",
            "\n",
            "0\n"
          ]
        }
      ]
    },
    {
      "cell_type": "code",
      "source": [
        "#Preprocessing - Convert Time column type\n",
        "Data['Time'] = pd.to_datetime(Data['Time'])\n",
        "print(Data.info())"
      ],
      "metadata": {
        "colab": {
          "base_uri": "https://localhost:8080/"
        },
        "id": "p7jP4nRcWeLw",
        "outputId": "6dc30b49-617d-4df4-e0bf-8631dbdf9769"
      },
      "execution_count": null,
      "outputs": [
        {
          "output_type": "stream",
          "name": "stdout",
          "text": [
            "<class 'pandas.core.frame.DataFrame'>\n",
            "RangeIndex: 195544 entries, 0 to 195543\n",
            "Data columns (total 6 columns):\n",
            " #   Column  Non-Null Count   Dtype         \n",
            "---  ------  --------------   -----         \n",
            " 0   Time    195544 non-null  datetime64[ns]\n",
            " 1   Open    195544 non-null  float64       \n",
            " 2   High    195544 non-null  float64       \n",
            " 3   Low     195544 non-null  float64       \n",
            " 4   Close   195544 non-null  float64       \n",
            " 5   Volume  195544 non-null  int64         \n",
            "dtypes: datetime64[ns](1), float64(4), int64(1)\n",
            "memory usage: 9.0 MB\n",
            "None\n"
          ]
        }
      ]
    },
    {
      "cell_type": "code",
      "source": [
        "#Implement RSI calculation on CPU\n",
        "\n",
        "def RSI_CPU_1(Data, period=14):\n",
        "\n",
        "  #Calculate price changes based on the Close price\n",
        "  Delta = Data['Close'].diff()\n",
        "\n",
        "  #Calculate gains and losses\n",
        "  Gain = Delta.where(Delta > 0, 0)\n",
        "  Loss = -Delta.where(Delta < 0, 0)\n",
        "\n",
        "  #Simple averages\n",
        "  AverageGain = Gain.rolling(window=period, min_periods=1).mean()\n",
        "  AverageLoss = Loss.rolling(window=period, min_periods=1).mean()\n",
        "\n",
        "  #Calculate RS 7 RSI\n",
        "  RS = AverageGain / AverageLoss\n",
        "  RSI = 100 - (100 / (1 + RS))\n",
        "  Data['RSI'] = RSI\n",
        "\n",
        "  return Data[['Time', 'Close', 'RSI']]\n",
        "\n",
        "RSI_CPU_1(Data, period=14)\n",
        "print(Data[['Time', 'Close', 'RSI']].head(10).round(2))"
      ],
      "metadata": {
        "colab": {
          "base_uri": "https://localhost:8080/"
        },
        "id": "2kkErSykWkEd",
        "outputId": "35b6210a-9034-4eb0-d47d-bce2467d72b3"
      },
      "execution_count": null,
      "outputs": [
        {
          "output_type": "stream",
          "name": "stdout",
          "text": [
            "                 Time  Close     RSI\n",
            "0 2024-06-12 10:22:00   1.08     NaN\n",
            "1 2024-06-12 10:23:00   1.08  100.00\n",
            "2 2024-06-12 10:24:00   1.08  100.00\n",
            "3 2024-06-12 10:25:00   1.08   44.44\n",
            "4 2024-06-12 10:26:00   1.08   76.19\n",
            "5 2024-06-12 10:27:00   1.08   77.27\n",
            "6 2024-06-12 10:28:00   1.08   80.77\n",
            "7 2024-06-12 10:29:00   1.08   82.14\n",
            "8 2024-06-12 10:30:00   1.08   84.85\n",
            "9 2024-06-12 10:31:00   1.08   82.35\n"
          ]
        }
      ]
    },
    {
      "cell_type": "code",
      "source": [
        "import cupy as cp\n",
        "print(\"CuPy GPU Available:\", cp.cuda.is_available())\n",
        "print(\"CuPy Version:\", cp.__version__)"
      ],
      "metadata": {
        "colab": {
          "base_uri": "https://localhost:8080/"
        },
        "id": "pqNLQPszWrjP",
        "outputId": "43755be9-32bb-44ef-f0b0-57172828e86c"
      },
      "execution_count": null,
      "outputs": [
        {
          "output_type": "stream",
          "name": "stdout",
          "text": [
            "CuPy GPU Available: True\n",
            "CuPy Version: 12.2.0\n"
          ]
        }
      ]
    },
    {
      "cell_type": "code",
      "source": [
        "#Accelerate RSI calculation with GPU\n",
        "\n",
        "import cudf\n",
        "\n",
        "def RSI_GPU_1(Data, period=14):\n",
        "\n",
        "  #Convert dataframe (Pandas to cuDF)\n",
        "  Data = cudf.DataFrame(Data)\n",
        "\n",
        "  #Calculate price changes based on the Close price\n",
        "  Delta = Data['Close'].diff()\n",
        "\n",
        "  #Calculate gains and losses\n",
        "  Gain = Delta.where(Delta > 0, 0)\n",
        "  Loss = -Delta.where(Delta < 0, 0)\n",
        "\n",
        "  #Simple rolling averages\n",
        "  AverageGain = Gain.rolling(window=period, min_periods=1).mean()\n",
        "  AverageLoss = Loss.rolling(window=period, min_periods=1).mean()\n",
        "\n",
        "  #Calculate RS 7 RSI\n",
        "  RS = AverageGain / AverageLoss\n",
        "  RSI = 100 - (100 / (1 + RS))\n",
        "  Data['RSI'] = RSI\n",
        "\n",
        "  return Data[['Time', 'Close', 'RSI']].to_pandas()\n",
        "\n",
        "RSI_GPU_1(Data, period=14)\n",
        "print(Data[['Time', 'Close', 'RSI']].head(10).round(2))"
      ],
      "metadata": {
        "colab": {
          "base_uri": "https://localhost:8080/"
        },
        "id": "X2NBUsk5Wxdd",
        "outputId": "e2d680c0-8871-45aa-9c92-96b4318ea5e5"
      },
      "execution_count": null,
      "outputs": [
        {
          "output_type": "stream",
          "name": "stdout",
          "text": [
            "                 Time  Close     RSI\n",
            "0 2024-06-12 10:22:00   1.08     NaN\n",
            "1 2024-06-12 10:23:00   1.08  100.00\n",
            "2 2024-06-12 10:24:00   1.08  100.00\n",
            "3 2024-06-12 10:25:00   1.08   44.44\n",
            "4 2024-06-12 10:26:00   1.08   76.19\n",
            "5 2024-06-12 10:27:00   1.08   77.27\n",
            "6 2024-06-12 10:28:00   1.08   80.77\n",
            "7 2024-06-12 10:29:00   1.08   82.14\n",
            "8 2024-06-12 10:30:00   1.08   84.85\n",
            "9 2024-06-12 10:31:00   1.08   82.35\n"
          ]
        }
      ]
    },
    {
      "cell_type": "code",
      "source": [
        "#Benchmark the execution time\n",
        "\n",
        "import time\n",
        "import cudf\n",
        "\n",
        "#CPU function\n",
        "def RSI_CPU_1(Data, period=14):\n",
        "  Delta = Data['Close'].diff()\n",
        "  Gain = Delta.where(Delta > 0, 0)\n",
        "  Loss = -Delta.where(Delta < 0, 0)\n",
        "  AverageGain = Gain.rolling(window=period, min_periods=1).mean()\n",
        "  AverageLoss = Loss.rolling(window=period, min_periods=1).mean()\n",
        "  RS = AverageGain / AverageLoss\n",
        "  RSI = 100 - (100 / (1 + RS))\n",
        "  Data['RSI'] = RSI\n",
        "  return Data[['Time', 'Close', 'RSI']]\n",
        "\n",
        "#GPU function\n",
        "def RSI_GPU_1(Data, period=14):\n",
        "  Data = cudf.DataFrame(Data)\n",
        "  Delta = Data['Close'].diff()\n",
        "  Gain = Delta.where(Delta > 0, 0)\n",
        "  Loss = -Delta.where(Delta < 0, 0)\n",
        "  AverageGain = Gain.rolling(window=period, min_periods=1).mean()\n",
        "  AverageLoss = Loss.rolling(window=period, min_periods=1).mean()\n",
        "  RS = AverageGain / AverageLoss\n",
        "  RSI = 100 - (100 / (1 + RS))\n",
        "  Data['RSI'] = RSI\n",
        "  return Data[['Time', 'Close', 'RSI']].to_pandas()\n",
        "\n",
        "#Numpy array needed for GPU compatibility\n",
        "DataNP = Data.to_numpy()\n",
        "\n",
        "#CPU benchmark\n",
        "CPUfunction = RSI_CPU_1(Data)\n",
        "Start_Time = time.time()\n",
        "End_Time = time.time()\n",
        "CPU_Time = End_Time - Start_Time\n",
        "print(f\"CPU RSI calculation time: {CPU_Time:.6f} seconds\")\n",
        "\n",
        "#GPU benchmark\n",
        "GPUfunction = RSI_GPU_1(Data)\n",
        "Start_Time = time.time()\n",
        "End_Time = time.time()\n",
        "GPU_Time = End_Time - Start_Time\n",
        "print(f\"GPU RSI calculation time: {GPU_Time:.6f} seconds\")"
      ],
      "metadata": {
        "colab": {
          "base_uri": "https://localhost:8080/"
        },
        "id": "PgFWen-wW_tM",
        "outputId": "ffb60e19-e69a-46e8-dfa9-05a0077e3341"
      },
      "execution_count": null,
      "outputs": [
        {
          "output_type": "stream",
          "name": "stdout",
          "text": [
            "CPU RSI calculation time: 0.000033 seconds\n",
            "GPU RSI calculation time: 0.000035 seconds\n"
          ]
        }
      ]
    },
    {
      "cell_type": "code",
      "source": [
        "#Load the dataset\n",
        "from google.colab import drive\n",
        "drive.mount('/content/drive')\n",
        "\n",
        "EURUSD1 = pd.read_csv('/content/drive/MyDrive/Colab Notebooks/EURUSD1.csv', sep=\"\\t\", header=None)\n",
        "EURUSD1.columns = [\"Time\", \"Open\", \"High\", \"Low\", \"Close\", \"Volume\"]\n",
        "\n",
        "EURUSD5 = pd.read_csv('/content/drive/MyDrive/Colab Notebooks/EURUSD5.csv', sep=\"\\t\", header=None)\n",
        "EURUSD5.columns = [\"Time\", \"Open\", \"High\", \"Low\", \"Close\", \"Volume\"]\n",
        "\n",
        "EURUSD15 = pd.read_csv('/content/drive/MyDrive/Colab Notebooks/EURUSD15.csv', sep=\"\\t\", header=None)\n",
        "EURUSD15.columns = [\"Time\", \"Open\", \"High\", \"Low\", \"Close\", \"Volume\"]\n",
        "\n",
        "EURUSD30 = pd.read_csv('/content/drive/MyDrive/Colab Notebooks/EURUSD30.csv', sep=\"\\t\", header=None)\n",
        "EURUSD30.columns = [\"Time\", \"Open\", \"High\", \"Low\", \"Close\", \"Volume\"]"
      ],
      "metadata": {
        "colab": {
          "base_uri": "https://localhost:8080/"
        },
        "id": "TkCcJSF7ZmBj",
        "outputId": "5ae76c1c-1468-49e5-e80e-14daf4817be6"
      },
      "execution_count": null,
      "outputs": [
        {
          "output_type": "stream",
          "name": "stdout",
          "text": [
            "Drive already mounted at /content/drive; to attempt to forcibly remount, call drive.mount(\"/content/drive\", force_remount=True).\n"
          ]
        }
      ]
    },
    {
      "cell_type": "code",
      "source": [
        "#Initial check\n",
        "print(EURUSD1.head(5))\n",
        "print('\\n')\n",
        "print(EURUSD5.head(5))\n",
        "print('\\n')\n",
        "print(EURUSD15.head(5))\n",
        "print('\\n')\n",
        "print(EURUSD30.head(5))\n",
        "print('\\n')"
      ],
      "metadata": {
        "colab": {
          "base_uri": "https://localhost:8080/"
        },
        "id": "pNACm9OEZ3qq",
        "outputId": "ddd59a7d-475a-4b8f-de3f-6d34c3e5e782"
      },
      "execution_count": null,
      "outputs": [
        {
          "output_type": "stream",
          "name": "stdout",
          "text": [
            "               Time     Open     High      Low    Close  Volume\n",
            "0  2024-06-12 10:22  1.07518  1.07519  1.07511  1.07518     146\n",
            "1  2024-06-12 10:23  1.07517  1.07521  1.07515  1.07519     104\n",
            "2  2024-06-12 10:24  1.07518  1.07524  1.07517  1.07522      83\n",
            "3  2024-06-12 10:25  1.07521  1.07524  1.07516  1.07517     115\n",
            "4  2024-06-12 10:26  1.07519  1.07535  1.07519  1.07529     110\n",
            "\n",
            "\n",
            "               Time     Open     High      Low    Close  Volume\n",
            "0  2022-04-25 18:35  1.07175  1.07180  1.07153  1.07174     328\n",
            "1  2022-04-25 18:40  1.07174  1.07175  1.07157  1.07159     608\n",
            "2  2022-04-25 18:45  1.07159  1.07185  1.07152  1.07154     396\n",
            "3  2022-04-25 18:50  1.07153  1.07159  1.07132  1.07154     285\n",
            "4  2022-04-25 18:55  1.07157  1.07163  1.07093  1.07094     856\n",
            "\n",
            "\n",
            "               Time     Open     High      Low    Close  Volume\n",
            "0  2016-12-19 16:00  1.04350  1.04435  1.04335  1.04380    3269\n",
            "1  2016-12-19 16:15  1.04382  1.04500  1.04344  1.04493    3327\n",
            "2  2016-12-19 16:30  1.04493  1.04519  1.04450  1.04472    2283\n",
            "3  2016-12-19 16:45  1.04472  1.04517  1.04414  1.04448    2545\n",
            "4  2016-12-19 17:00  1.04447  1.04463  1.04396  1.04429    1839\n",
            "\n",
            "\n",
            "               Time     Open     High      Low    Close  Volume\n",
            "0  2008-12-16 13:00  1.36830  1.37080  1.36815  1.37050   31970\n",
            "1  2008-12-16 13:30  1.37045  1.37445  1.37020  1.37370   26377\n",
            "2  2008-12-16 14:00  1.37370  1.37500  1.37020  1.37440   24247\n",
            "3  2008-12-16 14:30  1.37435  1.37720  1.37210  1.37608   25513\n",
            "4  2008-12-16 15:00  1.37606  1.37755  1.37430  1.37720   27582\n",
            "\n",
            "\n"
          ]
        }
      ]
    },
    {
      "cell_type": "code",
      "source": [
        "#Initial check - EURUSD1\n",
        "print(EURUSD1.dtypes)\n",
        "print('\\n')\n",
        "print(EURUSD1.info())\n",
        "print('\\n')\n",
        "print(EURUSD1.isnull().sum())\n",
        "print('\\n')\n",
        "print(EURUSD1.duplicated().sum())"
      ],
      "metadata": {
        "colab": {
          "base_uri": "https://localhost:8080/"
        },
        "id": "Y45LtzzXaEd5",
        "outputId": "3b2e38c2-38bc-47d4-820a-c251eb2bd02e"
      },
      "execution_count": null,
      "outputs": [
        {
          "output_type": "stream",
          "name": "stdout",
          "text": [
            "Time       object\n",
            "Open      float64\n",
            "High      float64\n",
            "Low       float64\n",
            "Close     float64\n",
            "Volume      int64\n",
            "dtype: object\n",
            "\n",
            "\n",
            "<class 'pandas.core.frame.DataFrame'>\n",
            "RangeIndex: 195544 entries, 0 to 195543\n",
            "Data columns (total 6 columns):\n",
            " #   Column  Non-Null Count   Dtype  \n",
            "---  ------  --------------   -----  \n",
            " 0   Time    195544 non-null  object \n",
            " 1   Open    195544 non-null  float64\n",
            " 2   High    195544 non-null  float64\n",
            " 3   Low     195544 non-null  float64\n",
            " 4   Close   195544 non-null  float64\n",
            " 5   Volume  195544 non-null  int64  \n",
            "dtypes: float64(4), int64(1), object(1)\n",
            "memory usage: 9.0+ MB\n",
            "None\n",
            "\n",
            "\n",
            "Time      0\n",
            "Open      0\n",
            "High      0\n",
            "Low       0\n",
            "Close     0\n",
            "Volume    0\n",
            "dtype: int64\n",
            "\n",
            "\n",
            "0\n"
          ]
        }
      ]
    },
    {
      "cell_type": "code",
      "source": [
        "#Initial check - EURUSD5\n",
        "print(EURUSD5.dtypes)\n",
        "print('\\n')\n",
        "print(EURUSD5.info())\n",
        "print('\\n')\n",
        "print(EURUSD5.isnull().sum())\n",
        "print('\\n')\n",
        "print(EURUSD5.duplicated().sum())"
      ],
      "metadata": {
        "colab": {
          "base_uri": "https://localhost:8080/"
        },
        "id": "KeBftRj7abJV",
        "outputId": "d1f8cbc5-2102-41ad-e6e3-fdbd028a66fd"
      },
      "execution_count": null,
      "outputs": [
        {
          "output_type": "stream",
          "name": "stdout",
          "text": [
            "Time       object\n",
            "Open      float64\n",
            "High      float64\n",
            "Low       float64\n",
            "Close     float64\n",
            "Volume      int64\n",
            "dtype: object\n",
            "\n",
            "\n",
            "<class 'pandas.core.frame.DataFrame'>\n",
            "RangeIndex: 195578 entries, 0 to 195577\n",
            "Data columns (total 6 columns):\n",
            " #   Column  Non-Null Count   Dtype  \n",
            "---  ------  --------------   -----  \n",
            " 0   Time    195578 non-null  object \n",
            " 1   Open    195578 non-null  float64\n",
            " 2   High    195578 non-null  float64\n",
            " 3   Low     195578 non-null  float64\n",
            " 4   Close   195578 non-null  float64\n",
            " 5   Volume  195578 non-null  int64  \n",
            "dtypes: float64(4), int64(1), object(1)\n",
            "memory usage: 9.0+ MB\n",
            "None\n",
            "\n",
            "\n",
            "Time      0\n",
            "Open      0\n",
            "High      0\n",
            "Low       0\n",
            "Close     0\n",
            "Volume    0\n",
            "dtype: int64\n",
            "\n",
            "\n",
            "0\n"
          ]
        }
      ]
    },
    {
      "cell_type": "code",
      "source": [
        "#Initial check - EURUSD15\n",
        "print(EURUSD15.dtypes)\n",
        "print('\\n')\n",
        "print(EURUSD15.info())\n",
        "print('\\n')\n",
        "print(EURUSD15.isnull().sum())\n",
        "print('\\n')\n",
        "print(EURUSD15.duplicated().sum())"
      ],
      "metadata": {
        "colab": {
          "base_uri": "https://localhost:8080/"
        },
        "id": "e-hn3VfHady_",
        "outputId": "b251f36e-3b1f-452d-92f4-91088d903843"
      },
      "execution_count": null,
      "outputs": [
        {
          "output_type": "stream",
          "name": "stdout",
          "text": [
            "Time       object\n",
            "Open      float64\n",
            "High      float64\n",
            "Low       float64\n",
            "Close     float64\n",
            "Volume      int64\n",
            "dtype: object\n",
            "\n",
            "\n",
            "<class 'pandas.core.frame.DataFrame'>\n",
            "RangeIndex: 195604 entries, 0 to 195603\n",
            "Data columns (total 6 columns):\n",
            " #   Column  Non-Null Count   Dtype  \n",
            "---  ------  --------------   -----  \n",
            " 0   Time    195604 non-null  object \n",
            " 1   Open    195604 non-null  float64\n",
            " 2   High    195604 non-null  float64\n",
            " 3   Low     195604 non-null  float64\n",
            " 4   Close   195604 non-null  float64\n",
            " 5   Volume  195604 non-null  int64  \n",
            "dtypes: float64(4), int64(1), object(1)\n",
            "memory usage: 9.0+ MB\n",
            "None\n",
            "\n",
            "\n",
            "Time      0\n",
            "Open      0\n",
            "High      0\n",
            "Low       0\n",
            "Close     0\n",
            "Volume    0\n",
            "dtype: int64\n",
            "\n",
            "\n",
            "0\n"
          ]
        }
      ]
    },
    {
      "cell_type": "code",
      "source": [
        "#Initial check - EURUSD30\n",
        "print(EURUSD30.dtypes)\n",
        "print('\\n')\n",
        "print(EURUSD30.info())\n",
        "print('\\n')\n",
        "print(EURUSD30.isnull().sum())\n",
        "print('\\n')\n",
        "print(EURUSD30.duplicated().sum())"
      ],
      "metadata": {
        "colab": {
          "base_uri": "https://localhost:8080/"
        },
        "id": "h03riEi7ahK6",
        "outputId": "baaef362-7dc4-40f1-c196-632e6612d9fd"
      },
      "execution_count": null,
      "outputs": [
        {
          "output_type": "stream",
          "name": "stdout",
          "text": [
            "Time       object\n",
            "Open      float64\n",
            "High      float64\n",
            "Low       float64\n",
            "Close     float64\n",
            "Volume      int64\n",
            "dtype: object\n",
            "\n",
            "\n",
            "<class 'pandas.core.frame.DataFrame'>\n",
            "RangeIndex: 195585 entries, 0 to 195584\n",
            "Data columns (total 6 columns):\n",
            " #   Column  Non-Null Count   Dtype  \n",
            "---  ------  --------------   -----  \n",
            " 0   Time    195585 non-null  object \n",
            " 1   Open    195585 non-null  float64\n",
            " 2   High    195585 non-null  float64\n",
            " 3   Low     195585 non-null  float64\n",
            " 4   Close   195585 non-null  float64\n",
            " 5   Volume  195585 non-null  int64  \n",
            "dtypes: float64(4), int64(1), object(1)\n",
            "memory usage: 9.0+ MB\n",
            "None\n",
            "\n",
            "\n",
            "Time      0\n",
            "Open      0\n",
            "High      0\n",
            "Low       0\n",
            "Close     0\n",
            "Volume    0\n",
            "dtype: int64\n",
            "\n",
            "\n",
            "0\n"
          ]
        }
      ]
    },
    {
      "cell_type": "code",
      "source": [
        "#Preprocessing - Convert Time column type\n",
        "EURUSD1['Time'] = pd.to_datetime(EURUSD1['Time'])\n",
        "EURUSD5['Time'] = pd.to_datetime(EURUSD5['Time'])\n",
        "EURUSD15['Time'] = pd.to_datetime(EURUSD15['Time'])\n",
        "EURUSD30['Time'] = pd.to_datetime(EURUSD30['Time'])\n",
        "\n",
        "print(EURUSD1.info())\n",
        "print('\\n')\n",
        "print(EURUSD5.info())\n",
        "print('\\n')\n",
        "print(EURUSD15.info())\n",
        "print('\\n')\n",
        "print(EURUSD30.info())"
      ],
      "metadata": {
        "colab": {
          "base_uri": "https://localhost:8080/"
        },
        "id": "1rlH4MhAakhP",
        "outputId": "d455e0c2-9194-467d-ba77-a96beaa432a3"
      },
      "execution_count": null,
      "outputs": [
        {
          "output_type": "stream",
          "name": "stdout",
          "text": [
            "<class 'pandas.core.frame.DataFrame'>\n",
            "RangeIndex: 195544 entries, 0 to 195543\n",
            "Data columns (total 6 columns):\n",
            " #   Column  Non-Null Count   Dtype         \n",
            "---  ------  --------------   -----         \n",
            " 0   Time    195544 non-null  datetime64[ns]\n",
            " 1   Open    195544 non-null  float64       \n",
            " 2   High    195544 non-null  float64       \n",
            " 3   Low     195544 non-null  float64       \n",
            " 4   Close   195544 non-null  float64       \n",
            " 5   Volume  195544 non-null  int64         \n",
            "dtypes: datetime64[ns](1), float64(4), int64(1)\n",
            "memory usage: 9.0 MB\n",
            "None\n",
            "\n",
            "\n",
            "<class 'pandas.core.frame.DataFrame'>\n",
            "RangeIndex: 195578 entries, 0 to 195577\n",
            "Data columns (total 6 columns):\n",
            " #   Column  Non-Null Count   Dtype         \n",
            "---  ------  --------------   -----         \n",
            " 0   Time    195578 non-null  datetime64[ns]\n",
            " 1   Open    195578 non-null  float64       \n",
            " 2   High    195578 non-null  float64       \n",
            " 3   Low     195578 non-null  float64       \n",
            " 4   Close   195578 non-null  float64       \n",
            " 5   Volume  195578 non-null  int64         \n",
            "dtypes: datetime64[ns](1), float64(4), int64(1)\n",
            "memory usage: 9.0 MB\n",
            "None\n",
            "\n",
            "\n",
            "<class 'pandas.core.frame.DataFrame'>\n",
            "RangeIndex: 195604 entries, 0 to 195603\n",
            "Data columns (total 6 columns):\n",
            " #   Column  Non-Null Count   Dtype         \n",
            "---  ------  --------------   -----         \n",
            " 0   Time    195604 non-null  datetime64[ns]\n",
            " 1   Open    195604 non-null  float64       \n",
            " 2   High    195604 non-null  float64       \n",
            " 3   Low     195604 non-null  float64       \n",
            " 4   Close   195604 non-null  float64       \n",
            " 5   Volume  195604 non-null  int64         \n",
            "dtypes: datetime64[ns](1), float64(4), int64(1)\n",
            "memory usage: 9.0 MB\n",
            "None\n",
            "\n",
            "\n",
            "<class 'pandas.core.frame.DataFrame'>\n",
            "RangeIndex: 195585 entries, 0 to 195584\n",
            "Data columns (total 6 columns):\n",
            " #   Column  Non-Null Count   Dtype         \n",
            "---  ------  --------------   -----         \n",
            " 0   Time    195585 non-null  datetime64[ns]\n",
            " 1   Open    195585 non-null  float64       \n",
            " 2   High    195585 non-null  float64       \n",
            " 3   Low     195585 non-null  float64       \n",
            " 4   Close   195585 non-null  float64       \n",
            " 5   Volume  195585 non-null  int64         \n",
            "dtypes: datetime64[ns](1), float64(4), int64(1)\n",
            "memory usage: 9.0 MB\n",
            "None\n"
          ]
        }
      ]
    },
    {
      "cell_type": "code",
      "source": [
        "#Implement RSI on CPU\n",
        "\n",
        "def RSI_CPU_2(Data, period=14):\n",
        "\n",
        "  Delta = Data['Close'].diff()\n",
        "  Gain = Delta.where(Delta > 0, 0)\n",
        "  Loss = -Delta.where(Delta < 0, 0)\n",
        "\n",
        "  AverageGain = Gain.rolling(window=period, min_periods=1).mean()\n",
        "  AverageLoss = Loss.rolling(window=period, min_periods=1).mean()\n",
        "\n",
        "  RS = AverageGain / AverageLoss\n",
        "  RSI = 100 - (100 / (1 + RS))\n",
        "  Data[f'RSI_{period}'] = RSI\n",
        "\n",
        "  return Data[['Time', 'Close', f'RSI_{period}']]\n",
        "\n",
        "#Define the lists\n",
        "Datasets = [EURUSD1, EURUSD5, EURUSD15, EURUSD30]\n",
        "Datasets_names = ['EURUSD1', 'EURUSD5', 'EURUSD15', 'EURUSD30']\n",
        "Periods = [7, 14, 21, 28]\n",
        "\n",
        "#Calculate RSI\n",
        "for i, Dataset in enumerate(Datasets):\n",
        "  print(f\"Calculating RSI for {Datasets_names[i]}...\")\n",
        "\n",
        "  for period in Periods:\n",
        "    RSI_CPU_2(Dataset, period)\n",
        "\n",
        "#Show the results\n",
        "for i, dataset in enumerate(Datasets):\n",
        "    print(f\"CPU Processing {Datasets_names[i]}\")\n",
        "\n",
        "    for period in Periods:\n",
        "        RSI_CPU_2(dataset, period)\n",
        "    print(dataset[['Time', 'Close'] + [f'RSI_{p}' for p in Periods]].head(10).round(2))"
      ],
      "metadata": {
        "colab": {
          "base_uri": "https://localhost:8080/"
        },
        "id": "7Tq8O99rav-J",
        "outputId": "fb68a563-316b-4bae-9d8e-acdfb4346957"
      },
      "execution_count": null,
      "outputs": [
        {
          "output_type": "stream",
          "name": "stdout",
          "text": [
            "Calculating RSI for EURUSD1...\n",
            "Calculating RSI for EURUSD5...\n",
            "Calculating RSI for EURUSD15...\n",
            "Calculating RSI for EURUSD30...\n",
            "CPU Processing EURUSD1\n",
            "                 Time  Close   RSI_7  RSI_14  RSI_21  RSI_28\n",
            "0 2024-06-12 10:22:00   1.08     NaN     NaN     NaN     NaN\n",
            "1 2024-06-12 10:23:00   1.08  100.00  100.00  100.00  100.00\n",
            "2 2024-06-12 10:24:00   1.08  100.00  100.00  100.00  100.00\n",
            "3 2024-06-12 10:25:00   1.08   44.44   44.44   44.44   44.44\n",
            "4 2024-06-12 10:26:00   1.08   76.19   76.19   76.19   76.19\n",
            "5 2024-06-12 10:27:00   1.08   77.27   77.27   77.27   77.27\n",
            "6 2024-06-12 10:28:00   1.08   80.77   80.77   80.77   80.77\n",
            "7 2024-06-12 10:29:00   1.08   82.14   82.14   82.14   82.14\n",
            "8 2024-06-12 10:30:00   1.08   84.37   84.85   84.85   84.85\n",
            "9 2024-06-12 10:31:00   1.08   80.00   82.35   82.35   82.35\n",
            "CPU Processing EURUSD5\n",
            "                 Time  Close  RSI_7  RSI_14  RSI_21  RSI_28\n",
            "0 2022-04-25 18:35:00   1.07    NaN     NaN     NaN     NaN\n",
            "1 2022-04-25 18:40:00   1.07   0.00    0.00    0.00    0.00\n",
            "2 2022-04-25 18:45:00   1.07   0.00    0.00    0.00    0.00\n",
            "3 2022-04-25 18:50:00   1.07   0.00    0.00    0.00    0.00\n",
            "4 2022-04-25 18:55:00   1.07   0.00    0.00    0.00    0.00\n",
            "5 2022-04-25 19:00:00   1.07   0.00    0.00    0.00    0.00\n",
            "6 2022-04-25 19:05:00   1.07   7.69    7.69    7.69    7.69\n",
            "7 2022-04-25 19:10:00   1.07   6.98    6.98    6.98    6.98\n",
            "8 2022-04-25 19:15:00   1.07  36.75   33.70   33.70   33.70\n",
            "9 2022-04-25 19:20:00   1.07  51.92   47.37   47.37   47.37\n",
            "CPU Processing EURUSD15\n",
            "                 Time  Close   RSI_7  RSI_14  RSI_21  RSI_28\n",
            "0 2016-12-19 16:00:00   1.04     NaN     NaN     NaN     NaN\n",
            "1 2016-12-19 16:15:00   1.04  100.00  100.00  100.00  100.00\n",
            "2 2016-12-19 16:30:00   1.04   84.33   84.33   84.33   84.33\n",
            "3 2016-12-19 16:45:00   1.04   71.52   71.52   71.52   71.52\n",
            "4 2016-12-19 17:00:00   1.04   63.84   63.84   63.84   63.84\n",
            "5 2016-12-19 17:15:00   1.04   61.08   61.08   61.08   61.08\n",
            "6 2016-12-19 17:30:00   1.04   57.65   57.65   57.65   57.65\n",
            "7 2016-12-19 17:45:00   1.04   63.27   63.27   63.27   63.27\n",
            "8 2016-12-19 18:00:00   1.04   46.79   69.14   69.14   69.14\n",
            "9 2016-12-19 18:15:00   1.04   51.41   67.39   67.39   67.39\n",
            "CPU Processing EURUSD30\n",
            "                 Time  Close   RSI_7  RSI_14  RSI_21  RSI_28\n",
            "0 2008-12-16 13:00:00   1.37     NaN     NaN     NaN     NaN\n",
            "1 2008-12-16 13:30:00   1.37  100.00  100.00  100.00  100.00\n",
            "2 2008-12-16 14:00:00   1.37  100.00  100.00  100.00  100.00\n",
            "3 2008-12-16 14:30:00   1.38  100.00  100.00  100.00  100.00\n",
            "4 2008-12-16 15:00:00   1.38  100.00  100.00  100.00  100.00\n",
            "5 2008-12-16 15:30:00   1.38   84.81   84.81   84.81   84.81\n",
            "6 2008-12-16 16:00:00   1.38   88.35   88.35   88.35   88.35\n",
            "7 2008-12-16 16:30:00   1.38   90.59   90.59   90.59   90.59\n",
            "8 2008-12-16 17:00:00   1.38   89.33   91.70   91.70   91.70\n",
            "9 2008-12-16 17:30:00   1.38   72.76   79.10   79.10   79.10\n"
          ]
        }
      ]
    },
    {
      "cell_type": "code",
      "source": [
        "#Accelerate with GPU\n",
        "import cudf\n",
        "\n",
        "def RSI_GPU_2(Data, period):\n",
        "    Data = cudf.DataFrame(Data)\n",
        "\n",
        "    Delta = Data['Close'].diff()\n",
        "    Gain = Delta.where(Delta > 0, 0)\n",
        "    Loss = -Delta.where(Delta < 0, 0)\n",
        "\n",
        "    AverageGain = Gain.rolling(window=period, min_periods=1).mean()\n",
        "    AverageLoss = Loss.rolling(window=period, min_periods=1).mean()\n",
        "\n",
        "    RS = AverageGain / AverageLoss\n",
        "    RSI = 100 - (100 / (1 + RS))\n",
        "    Data[f'RSI_{period}'] = RSI\n",
        "\n",
        "    return Data.to_pandas()\n",
        "\n",
        "#Define the lists\n",
        "Datasets = [EURUSD1, EURUSD5, EURUSD15, EURUSD30]\n",
        "Datasets_names = ['EURUSD1', 'EURUSD5', 'EURUSD15', 'EURUSD30']\n",
        "Periods = [7, 14, 21, 28]\n",
        "\n",
        "# Calculate RSI for all datasets and all periods\n",
        "for i, dataset in enumerate(Datasets):\n",
        "    print(f\"GPU Processing {Datasets_names[i]}\")\n",
        "    for period in Periods:\n",
        "        dataset = RSI_GPU_2(dataset, period)\n",
        "\n",
        "    print(dataset[['Time', 'Close'] + [f'RSI_{p}' for p in Periods]].head(10).round(2))"
      ],
      "metadata": {
        "colab": {
          "base_uri": "https://localhost:8080/"
        },
        "id": "iBUkMRQncoaS",
        "outputId": "56ae06a1-816e-4ff8-9a80-3c0d54cdfacc"
      },
      "execution_count": null,
      "outputs": [
        {
          "output_type": "stream",
          "name": "stdout",
          "text": [
            "GPU Processing EURUSD1\n",
            "                 Time  Close   RSI_7  RSI_14  RSI_21  RSI_28\n",
            "0 2024-06-12 10:22:00   1.08     NaN     NaN     NaN     NaN\n",
            "1 2024-06-12 10:23:00   1.08  100.00  100.00  100.00  100.00\n",
            "2 2024-06-12 10:24:00   1.08  100.00  100.00  100.00  100.00\n",
            "3 2024-06-12 10:25:00   1.08   44.44   44.44   44.44   44.44\n",
            "4 2024-06-12 10:26:00   1.08   76.19   76.19   76.19   76.19\n",
            "5 2024-06-12 10:27:00   1.08   77.27   77.27   77.27   77.27\n",
            "6 2024-06-12 10:28:00   1.08   80.77   80.77   80.77   80.77\n",
            "7 2024-06-12 10:29:00   1.08   82.14   82.14   82.14   82.14\n",
            "8 2024-06-12 10:30:00   1.08   84.37   84.85   84.85   84.85\n",
            "9 2024-06-12 10:31:00   1.08   80.00   82.35   82.35   82.35\n",
            "GPU Processing EURUSD5\n",
            "                 Time  Close  RSI_7  RSI_14  RSI_21  RSI_28\n",
            "0 2022-04-25 18:35:00   1.07    NaN     NaN     NaN     NaN\n",
            "1 2022-04-25 18:40:00   1.07   0.00    0.00    0.00    0.00\n",
            "2 2022-04-25 18:45:00   1.07   0.00    0.00    0.00    0.00\n",
            "3 2022-04-25 18:50:00   1.07   0.00    0.00    0.00    0.00\n",
            "4 2022-04-25 18:55:00   1.07   0.00    0.00    0.00    0.00\n",
            "5 2022-04-25 19:00:00   1.07   0.00    0.00    0.00    0.00\n",
            "6 2022-04-25 19:05:00   1.07   7.69    7.69    7.69    7.69\n",
            "7 2022-04-25 19:10:00   1.07   6.98    6.98    6.98    6.98\n",
            "8 2022-04-25 19:15:00   1.07  36.75   33.70   33.70   33.70\n",
            "9 2022-04-25 19:20:00   1.07  51.92   47.37   47.37   47.37\n",
            "GPU Processing EURUSD15\n",
            "                 Time  Close   RSI_7  RSI_14  RSI_21  RSI_28\n",
            "0 2016-12-19 16:00:00   1.04     NaN     NaN     NaN     NaN\n",
            "1 2016-12-19 16:15:00   1.04  100.00  100.00  100.00  100.00\n",
            "2 2016-12-19 16:30:00   1.04   84.33   84.33   84.33   84.33\n",
            "3 2016-12-19 16:45:00   1.04   71.52   71.52   71.52   71.52\n",
            "4 2016-12-19 17:00:00   1.04   63.84   63.84   63.84   63.84\n",
            "5 2016-12-19 17:15:00   1.04   61.08   61.08   61.08   61.08\n",
            "6 2016-12-19 17:30:00   1.04   57.65   57.65   57.65   57.65\n",
            "7 2016-12-19 17:45:00   1.04   63.27   63.27   63.27   63.27\n",
            "8 2016-12-19 18:00:00   1.04   46.79   69.14   69.14   69.14\n",
            "9 2016-12-19 18:15:00   1.04   51.41   67.39   67.39   67.39\n",
            "GPU Processing EURUSD30\n",
            "                 Time  Close   RSI_7  RSI_14  RSI_21  RSI_28\n",
            "0 2008-12-16 13:00:00   1.37     NaN     NaN     NaN     NaN\n",
            "1 2008-12-16 13:30:00   1.37  100.00  100.00  100.00  100.00\n",
            "2 2008-12-16 14:00:00   1.37  100.00  100.00  100.00  100.00\n",
            "3 2008-12-16 14:30:00   1.38  100.00  100.00  100.00  100.00\n",
            "4 2008-12-16 15:00:00   1.38  100.00  100.00  100.00  100.00\n",
            "5 2008-12-16 15:30:00   1.38   84.81   84.81   84.81   84.81\n",
            "6 2008-12-16 16:00:00   1.38   88.35   88.35   88.35   88.35\n",
            "7 2008-12-16 16:30:00   1.38   90.59   90.59   90.59   90.59\n",
            "8 2008-12-16 17:00:00   1.38   89.33   91.70   91.70   91.70\n",
            "9 2008-12-16 17:30:00   1.38   72.76   79.10   79.10   79.10\n"
          ]
        }
      ]
    },
    {
      "cell_type": "code",
      "source": [
        "#Benchmark - Just Computation Time\n",
        "import time\n",
        "import cudf\n",
        "\n",
        "datasets = {'EURUSD1': EURUSD1, 'EURUSD5': EURUSD5, 'EURUSD15': EURUSD15, 'EURUSD30': EURUSD30}\n",
        "periods = [7, 14, 21, 28]\n",
        "\n",
        "#Benchmark for CPU and GPU\n",
        "for name, dataset in datasets.items():\n",
        "    print(f\"Processing {name}...\")\n",
        "\n",
        "    #CPU\n",
        "    for period in periods:\n",
        "        start_time = time.time()\n",
        "        RSI_CPU_2(dataset.copy(), period=period)  #Copy to prevent side-effects\n",
        "        end_time = time.time()\n",
        "        cpu_time = end_time - start_time\n",
        "        print(f\"  CPU (Period {period}) RSI time: {cpu_time:.6f} seconds\")\n",
        "\n",
        "    #GPU\n",
        "    for period in periods:\n",
        "        start_time = time.time()\n",
        "        RSI_GPU_2(dataset.copy(), period=period)  #Copy to prevent side-effects\n",
        "        end_time = time.time()\n",
        "        gpu_time = end_time - start_time\n",
        "        print(f\"  GPU (Period {period}) RSI time: {gpu_time:.6f} seconds\")"
      ],
      "metadata": {
        "colab": {
          "base_uri": "https://localhost:8080/"
        },
        "id": "PJt8vZ9xdKwU",
        "outputId": "f53b08db-6099-414a-ec1e-c9bc8394d82e"
      },
      "execution_count": null,
      "outputs": [
        {
          "output_type": "stream",
          "name": "stdout",
          "text": [
            "Processing EURUSD1...\n",
            "  CPU (Period 7) RSI time: 0.026169 seconds\n",
            "  CPU (Period 14) RSI time: 0.024878 seconds\n",
            "  CPU (Period 21) RSI time: 0.025715 seconds\n",
            "  CPU (Period 28) RSI time: 0.026216 seconds\n",
            "  GPU (Period 7) RSI time: 0.066848 seconds\n",
            "  GPU (Period 14) RSI time: 0.068110 seconds\n",
            "  GPU (Period 21) RSI time: 0.066772 seconds\n",
            "  GPU (Period 28) RSI time: 0.065874 seconds\n",
            "Processing EURUSD5...\n",
            "  CPU (Period 7) RSI time: 0.026691 seconds\n",
            "  CPU (Period 14) RSI time: 0.023197 seconds\n",
            "  CPU (Period 21) RSI time: 0.025265 seconds\n",
            "  CPU (Period 28) RSI time: 0.023038 seconds\n",
            "  GPU (Period 7) RSI time: 0.068308 seconds\n",
            "  GPU (Period 14) RSI time: 0.066545 seconds\n",
            "  GPU (Period 21) RSI time: 0.067980 seconds\n",
            "  GPU (Period 28) RSI time: 0.067851 seconds\n",
            "Processing EURUSD15...\n",
            "  CPU (Period 7) RSI time: 0.027473 seconds\n",
            "  CPU (Period 14) RSI time: 0.024474 seconds\n",
            "  CPU (Period 21) RSI time: 0.023873 seconds\n",
            "  CPU (Period 28) RSI time: 0.031920 seconds\n",
            "  GPU (Period 7) RSI time: 0.070185 seconds\n",
            "  GPU (Period 14) RSI time: 0.065844 seconds\n",
            "  GPU (Period 21) RSI time: 0.077174 seconds\n",
            "  GPU (Period 28) RSI time: 0.069760 seconds\n",
            "Processing EURUSD30...\n",
            "  CPU (Period 7) RSI time: 0.027801 seconds\n",
            "  CPU (Period 14) RSI time: 0.029220 seconds\n",
            "  CPU (Period 21) RSI time: 0.029826 seconds\n",
            "  CPU (Period 28) RSI time: 0.028546 seconds\n",
            "  GPU (Period 7) RSI time: 0.072545 seconds\n",
            "  GPU (Period 14) RSI time: 0.075918 seconds\n",
            "  GPU (Period 21) RSI time: 0.076982 seconds\n",
            "  GPU (Period 28) RSI time: 0.078571 seconds\n"
          ]
        }
      ]
    },
    {
      "cell_type": "code",
      "source": [
        "#Load the dataset\n",
        "from google.colab import drive\n",
        "drive.mount('/content/drive')\n",
        "\n",
        "EURUSD1_2 = pd.read_csv('/content/drive/MyDrive/Colab Notebooks/EURUSD1.csv', sep=\"\\t\", header=None)\n",
        "EURUSD1_2.columns = [\"Time\", \"Open\", \"High\", \"Low\", \"Close\", \"Volume\"]\n",
        "\n",
        "EURUSD5_2 = pd.read_csv('/content/drive/MyDrive/Colab Notebooks/EURUSD5.csv', sep=\"\\t\", header=None)\n",
        "EURUSD5_2.columns = [\"Time\", \"Open\", \"High\", \"Low\", \"Close\", \"Volume\"]\n",
        "\n",
        "EURUSD15_2 = pd.read_csv('/content/drive/MyDrive/Colab Notebooks/EURUSD15.csv', sep=\"\\t\", header=None)\n",
        "EURUSD15_2.columns = [\"Time\", \"Open\", \"High\", \"Low\", \"Close\", \"Volume\"]\n",
        "\n",
        "EURUSD30_2 = pd.read_csv('/content/drive/MyDrive/Colab Notebooks/EURUSD30.csv', sep=\"\\t\", header=None)\n",
        "EURUSD30_2.columns = [\"Time\", \"Open\", \"High\", \"Low\", \"Close\", \"Volume\"]\n",
        "\n",
        "#####\n",
        "\n",
        "GBPUSD1 = pd.read_csv('/content/drive/MyDrive/Colab Notebooks/GBPUSD1.csv', sep=\"\\t\", header=None)\n",
        "GBPUSD1.columns = [\"Time\", \"Open\", \"High\", \"Low\", \"Close\", \"Volume\"]\n",
        "\n",
        "GBPUSD5 = pd.read_csv('/content/drive/MyDrive/Colab Notebooks/GBPUSD5.csv', sep=\"\\t\", header=None)\n",
        "GBPUSD5.columns = [\"Time\", \"Open\", \"High\", \"Low\", \"Close\", \"Volume\"]\n",
        "\n",
        "GBPUSD15 = pd.read_csv('/content/drive/MyDrive/Colab Notebooks/GBPUSD15.csv', sep=\"\\t\", header=None)\n",
        "GBPUSD15.columns = [\"Time\", \"Open\", \"High\", \"Low\", \"Close\", \"Volume\"]\n",
        "\n",
        "GBPUSD30 = pd.read_csv('/content/drive/MyDrive/Colab Notebooks/GBPUSD30.csv', sep=\"\\t\", header=None)\n",
        "GBPUSD30.columns = [\"Time\", \"Open\", \"High\", \"Low\", \"Close\", \"Volume\"]"
      ],
      "metadata": {
        "colab": {
          "base_uri": "https://localhost:8080/"
        },
        "id": "6P0YaIvhfhc8",
        "outputId": "9b27a33c-0cc5-4448-ef0e-601bc61573ca"
      },
      "execution_count": null,
      "outputs": [
        {
          "output_type": "stream",
          "name": "stdout",
          "text": [
            "Drive already mounted at /content/drive; to attempt to forcibly remount, call drive.mount(\"/content/drive\", force_remount=True).\n"
          ]
        }
      ]
    },
    {
      "cell_type": "code",
      "source": [
        "#Combine EURUSD datasets\n",
        "EURUSD = pd.concat([EURUSD1_2, EURUSD5_2, EURUSD15_2, EURUSD30_2], ignore_index=True)\n",
        "\n",
        "#Combine GBPUSD datasets\n",
        "GBPUSD = pd.concat([GBPUSD1, GBPUSD5, GBPUSD15, GBPUSD30], ignore_index=True)\n",
        "\n",
        "#Merge both datasets\n",
        "Merged = pd.concat([EURUSD, GBPUSD], ignore_index=True)\n",
        "Merged['Time'] = pd.to_datetime(Merged['Time'])\n",
        "Merged = Merged.sort_values(by=['Time'])"
      ],
      "metadata": {
        "id": "TsuJNmNrhNSb"
      },
      "execution_count": null,
      "outputs": []
    },
    {
      "cell_type": "code",
      "source": [
        "#Initial check\n",
        "print(Merged.head(10))\n",
        "print('\\n')\n",
        "print(Merged.dtypes)"
      ],
      "metadata": {
        "colab": {
          "base_uri": "https://localhost:8080/"
        },
        "id": "KqvkZT1AhibU",
        "outputId": "28c581f7-2ab1-403d-a91f-1ee7e5ac75bd"
      },
      "execution_count": null,
      "outputs": [
        {
          "output_type": "stream",
          "name": "stdout",
          "text": [
            "                       Time     Open     High      Low    Close  Volume\n",
            "1369117 2008-12-16 06:30:00  1.52810  1.52940  1.52720  1.52850    2074\n",
            "1369118 2008-12-16 07:00:00  1.52850  1.52940  1.52450  1.52530    3769\n",
            "1369119 2008-12-16 07:30:00  1.52525  1.53120  1.52410  1.52940    6964\n",
            "1369120 2008-12-16 08:00:00  1.52925  1.53010  1.52580  1.52665   12089\n",
            "1369121 2008-12-16 08:30:00  1.52660  1.52740  1.52105  1.52170   16300\n",
            "1369122 2008-12-16 09:00:00  1.52170  1.52560  1.52105  1.52520   12405\n",
            "1369123 2008-12-16 09:30:00  1.52480  1.52850  1.52045  1.52350   11497\n",
            "1369124 2008-12-16 10:00:00  1.52350  1.52465  1.52055  1.52165   13134\n",
            "1369125 2008-12-16 10:30:00  1.52160  1.52370  1.52030  1.52295    8341\n",
            "1369126 2008-12-16 11:00:00  1.52295  1.52545  1.52260  1.52510   11960\n",
            "\n",
            "\n",
            "Time      datetime64[ns]\n",
            "Open             float64\n",
            "High             float64\n",
            "Low              float64\n",
            "Close            float64\n",
            "Volume             int64\n",
            "dtype: object\n"
          ]
        }
      ]
    },
    {
      "cell_type": "code",
      "source": [
        "#Initial check\n",
        "print(Merged.info())\n",
        "print('\\n')\n",
        "print(Merged.isnull().sum())\n",
        "print('\\n')\n",
        "print(Merged.duplicated().sum())"
      ],
      "metadata": {
        "colab": {
          "base_uri": "https://localhost:8080/"
        },
        "id": "1orDuKXvhnlj",
        "outputId": "affa0634-66cc-4f33-df5d-d0a153441549"
      },
      "execution_count": null,
      "outputs": [
        {
          "output_type": "stream",
          "name": "stdout",
          "text": [
            "<class 'pandas.core.frame.DataFrame'>\n",
            "Index: 1564707 entries, 1369117 to 195543\n",
            "Data columns (total 6 columns):\n",
            " #   Column  Non-Null Count    Dtype         \n",
            "---  ------  --------------    -----         \n",
            " 0   Time    1564707 non-null  datetime64[ns]\n",
            " 1   Open    1564707 non-null  float64       \n",
            " 2   High    1564707 non-null  float64       \n",
            " 3   Low     1564707 non-null  float64       \n",
            " 4   Close   1564707 non-null  float64       \n",
            " 5   Volume  1564707 non-null  int64         \n",
            "dtypes: datetime64[ns](1), float64(4), int64(1)\n",
            "memory usage: 83.6 MB\n",
            "None\n",
            "\n",
            "\n",
            "Time      0\n",
            "Open      0\n",
            "High      0\n",
            "Low       0\n",
            "Close     0\n",
            "Volume    0\n",
            "dtype: int64\n",
            "\n",
            "\n",
            "57\n"
          ]
        }
      ]
    },
    {
      "cell_type": "code",
      "source": [
        "#Implement RSI on CPU\n",
        "def RSI_CPU_3(Data, period=14):\n",
        "    Delta = Data['Close'].diff()\n",
        "    Gain = Delta.where(Delta > 0, 0)\n",
        "    Loss = -Delta.where(Delta < 0, 0)\n",
        "\n",
        "    AverageGain = Gain.rolling(window=period, min_periods=1).mean()\n",
        "    AverageLoss = Loss.rolling(window=period, min_periods=1).mean()\n",
        "\n",
        "    RS = AverageGain / AverageLoss\n",
        "    RSI = 100 - (100 / (1 + RS))\n",
        "    Data[f'RSI_{period}'] = RSI\n",
        "\n",
        "    return Data[['Time', 'Close', f'RSI_{period}']]\n",
        "\n",
        "#Define the periods\n",
        "Periods_3 = [7, 14, 21, 28, 35, 42, 49, 56]\n",
        "\n",
        "#Calculate RSI\n",
        "for period in Periods_3:\n",
        "    RSI_CPU_3(Merged, period)\n",
        "\n",
        "#Show the results\n",
        "print(\"Displaying RSI Results:\")\n",
        "print('\\n')\n",
        "print(Merged[['Time', 'Close'] + [f'RSI_{p}' for p in Periods]].head(10).round(2))"
      ],
      "metadata": {
        "colab": {
          "base_uri": "https://localhost:8080/"
        },
        "id": "GDkhWy7EiPdQ",
        "outputId": "6784ae6d-db61-4149-f36d-d467a1ec2892"
      },
      "execution_count": null,
      "outputs": [
        {
          "output_type": "stream",
          "name": "stdout",
          "text": [
            "Displaying RSI Results:\n",
            "\n",
            "\n",
            "                       Time  Close  RSI_7  RSI_14  RSI_21  RSI_28\n",
            "1369117 2008-12-16 06:30:00   1.53    NaN     NaN     NaN     NaN\n",
            "1369118 2008-12-16 07:00:00   1.53   0.00    0.00    0.00    0.00\n",
            "1369119 2008-12-16 07:30:00   1.53  56.16   56.16   56.16   56.16\n",
            "1369120 2008-12-16 08:00:00   1.53  40.80   40.80   40.80   40.80\n",
            "1369121 2008-12-16 08:30:00   1.52  27.33   27.33   27.33   27.33\n",
            "1369122 2008-12-16 09:00:00   1.53  41.08   41.08   41.08   41.08\n",
            "1369123 2008-12-16 09:30:00   1.52  37.62   37.62   37.62   37.62\n",
            "1369124 2008-12-16 10:00:00   1.52  34.47   34.47   34.47   34.47\n",
            "1369125 2008-12-16 10:30:00   1.52  44.17   38.12   38.12   38.12\n",
            "1369126 2008-12-16 11:00:00   1.53  38.19   43.33   43.33   43.33\n"
          ]
        }
      ]
    },
    {
      "cell_type": "code",
      "source": [
        "#Accelerate with GPU for Batch Processing\n",
        "import cudf\n",
        "\n",
        "def RSI_GPU_Batch(Data, periods):\n",
        "    Data = cudf.DataFrame(Data)\n",
        "\n",
        "    Delta = Data['Close'].diff()\n",
        "    Gain = Delta.where(Delta > 0, 0)\n",
        "    Loss = -Delta.where(Delta < 0, 0)\n",
        "\n",
        "    for period in periods:\n",
        "        AverageGain = Gain.rolling(window=period, min_periods=1).mean()\n",
        "        AverageLoss = Loss.rolling(window=period, min_periods=1).mean()\n",
        "\n",
        "        RS = AverageGain / AverageLoss\n",
        "        RSI = 100 - (100 / (1 + RS))\n",
        "        Data[f'RSI_{period}'] = RSI\n",
        "\n",
        "    return Data.to_pandas()\n",
        "\n",
        "#Define the periods\n",
        "Periods_3 = [7, 14, 21, 28, 35, 42, 49, 56]\n",
        "\n",
        "#Calculate RSI\n",
        "Merged = RSI_GPU_Batch(Merged, Periods_3)\n",
        "\n",
        "#Display the results\n",
        "print(\"Displaying RSI Results:\")\n",
        "print('\\n')\n",
        "print(Merged[['Time', 'Close'] + [f'RSI_{p}' for p in Periods]].head(10).round(2))"
      ],
      "metadata": {
        "colab": {
          "base_uri": "https://localhost:8080/"
        },
        "id": "XriZFBR8iw2t",
        "outputId": "1e1a29dc-0fd2-4f23-d3b5-06873a41f5b5"
      },
      "execution_count": null,
      "outputs": [
        {
          "output_type": "stream",
          "name": "stdout",
          "text": [
            "Displaying RSI Results:\n",
            "\n",
            "\n",
            "                       Time  Close  RSI_7  RSI_14  RSI_21  RSI_28\n",
            "1369117 2008-12-16 06:30:00   1.53    NaN     NaN     NaN     NaN\n",
            "1369118 2008-12-16 07:00:00   1.53   0.00    0.00    0.00    0.00\n",
            "1369119 2008-12-16 07:30:00   1.53  56.16   56.16   56.16   56.16\n",
            "1369120 2008-12-16 08:00:00   1.53  40.80   40.80   40.80   40.80\n",
            "1369121 2008-12-16 08:30:00   1.52  27.33   27.33   27.33   27.33\n",
            "1369122 2008-12-16 09:00:00   1.53  41.08   41.08   41.08   41.08\n",
            "1369123 2008-12-16 09:30:00   1.52  37.62   37.62   37.62   37.62\n",
            "1369124 2008-12-16 10:00:00   1.52  34.47   34.47   34.47   34.47\n",
            "1369125 2008-12-16 10:30:00   1.52  44.17   38.12   38.12   38.12\n",
            "1369126 2008-12-16 11:00:00   1.53  38.19   43.33   43.33   43.33\n"
          ]
        }
      ]
    },
    {
      "cell_type": "code",
      "source": [
        "#Benchmark - Just Computation Time\n",
        "import time\n",
        "import cudf\n",
        "\n",
        "Periods_3 = [7, 14, 21, 28, 35, 42, 49, 56]\n",
        "\n",
        "#CPU\n",
        "print(\"CPU Benchmarking:\")\n",
        "for period in Periods_3:\n",
        "    start_time = time.time()\n",
        "    RSI_CPU_3(Merged.copy(), period=period)\n",
        "    end_time = time.time()\n",
        "    cpu_time = end_time - start_time\n",
        "    print(f\"  CPU (Period {period}) RSI time: {cpu_time:.6f} seconds\")\n",
        "print('\\n')\n",
        "\n",
        "#GPU\n",
        "print(\"GPU Benchmarking (Batch Processing):\")\n",
        "start_time = time.time()\n",
        "RSI_GPU_Batch(Merged.copy(), Periods_3)  #Process all periods in a single batch\n",
        "end_time = time.time()\n",
        "gpu_time = end_time - start_time\n",
        "print(f\"  GPU (Batch for periods {Periods_3}) RSI time: {gpu_time:.6f} seconds\")"
      ],
      "metadata": {
        "colab": {
          "base_uri": "https://localhost:8080/"
        },
        "id": "gHsux9gMi8vN",
        "outputId": "414ea78c-ff08-4a86-f4e1-cc23e597b61c"
      },
      "execution_count": null,
      "outputs": [
        {
          "output_type": "stream",
          "name": "stdout",
          "text": [
            "CPU Benchmarking:\n",
            "  CPU (Period 7) RSI time: 0.146483 seconds\n",
            "  CPU (Period 14) RSI time: 0.158025 seconds\n",
            "  CPU (Period 21) RSI time: 0.146217 seconds\n",
            "  CPU (Period 28) RSI time: 0.145086 seconds\n",
            "  CPU (Period 35) RSI time: 0.148029 seconds\n",
            "  CPU (Period 42) RSI time: 0.149757 seconds\n",
            "  CPU (Period 49) RSI time: 0.145589 seconds\n",
            "  CPU (Period 56) RSI time: 0.145944 seconds\n",
            "\n",
            "\n",
            "GPU Benchmarking (Batch Processing):\n",
            "  GPU (Batch for periods [7, 14, 21, 28, 35, 42, 49, 56]) RSI time: 0.471885 seconds\n"
          ]
        }
      ]
    },
    {
      "cell_type": "code",
      "source": [
        "#Load the dataset\n",
        "from google.colab import drive\n",
        "drive.mount('/content/drive')\n",
        "\n",
        "EURUSD1_3 = pd.read_csv('/content/drive/MyDrive/Colab Notebooks/EURUSD1.csv', sep=\"\\t\", header=None)\n",
        "EURUSD1_3.columns = [\"Time\", \"Open\", \"High\", \"Low\", \"Close\", \"Volume\"]\n",
        "\n",
        "EURUSD5_3 = pd.read_csv('/content/drive/MyDrive/Colab Notebooks/EURUSD5.csv', sep=\"\\t\", header=None)\n",
        "EURUSD5_3.columns = [\"Time\", \"Open\", \"High\", \"Low\", \"Close\", \"Volume\"]\n",
        "\n",
        "EURUSD15_3 = pd.read_csv('/content/drive/MyDrive/Colab Notebooks/EURUSD15.csv', sep=\"\\t\", header=None)\n",
        "EURUSD15_3.columns = [\"Time\", \"Open\", \"High\", \"Low\", \"Close\", \"Volume\"]\n",
        "\n",
        "EURUSD30_3 = pd.read_csv('/content/drive/MyDrive/Colab Notebooks/EURUSD30.csv', sep=\"\\t\", header=None)\n",
        "EURUSD30_3.columns = [\"Time\", \"Open\", \"High\", \"Low\", \"Close\", \"Volume\"]\n",
        "\n",
        "#####\n",
        "\n",
        "GBPUSD1_2 = pd.read_csv('/content/drive/MyDrive/Colab Notebooks/GBPUSD1.csv', sep=\"\\t\", header=None)\n",
        "GBPUSD1_2.columns = [\"Time\", \"Open\", \"High\", \"Low\", \"Close\", \"Volume\"]\n",
        "\n",
        "GBPUSD5_2 = pd.read_csv('/content/drive/MyDrive/Colab Notebooks/GBPUSD5.csv', sep=\"\\t\", header=None)\n",
        "GBPUSD5_2.columns = [\"Time\", \"Open\", \"High\", \"Low\", \"Close\", \"Volume\"]\n",
        "\n",
        "GBPUSD15_2 = pd.read_csv('/content/drive/MyDrive/Colab Notebooks/GBPUSD15.csv', sep=\"\\t\", header=None)\n",
        "GBPUSD15_2.columns = [\"Time\", \"Open\", \"High\", \"Low\", \"Close\", \"Volume\"]\n",
        "\n",
        "GBPUSD30_2 = pd.read_csv('/content/drive/MyDrive/Colab Notebooks/GBPUSD30.csv', sep=\"\\t\", header=None)\n",
        "GBPUSD30_2.columns = [\"Time\", \"Open\", \"High\", \"Low\", \"Close\", \"Volume\"]\n",
        "\n",
        "####\n",
        "\n",
        "USDCAD1 = pd.read_csv('/content/drive/MyDrive/Colab Notebooks/USDCAD1.csv', sep=\"\\t\", header=None)\n",
        "USDCAD1.columns = [\"Time\", \"Open\", \"High\", \"Low\", \"Close\", \"Volume\"]\n",
        "\n",
        "USDCAD5 = pd.read_csv('/content/drive/MyDrive/Colab Notebooks/USDCAD5.csv', sep=\"\\t\", header=None)\n",
        "USDCAD5.columns = [\"Time\", \"Open\", \"High\", \"Low\", \"Close\", \"Volume\"]\n",
        "\n",
        "USDCAD15 = pd.read_csv('/content/drive/MyDrive/Colab Notebooks/USDCAD15.csv', sep=\"\\t\", header=None)\n",
        "USDCAD15.columns = [\"Time\", \"Open\", \"High\", \"Low\", \"Close\", \"Volume\"]\n",
        "\n",
        "USDCAD30 = pd.read_csv('/content/drive/MyDrive/Colab Notebooks/USDCAD30.csv', sep=\"\\t\", header=None)\n",
        "USDCAD30.columns = [\"Time\", \"Open\", \"High\", \"Low\", \"Close\", \"Volume\"]"
      ],
      "metadata": {
        "colab": {
          "base_uri": "https://localhost:8080/"
        },
        "id": "6QYiMEgOkupr",
        "outputId": "801adbc3-dadd-42c5-8d51-a15de425e6ba"
      },
      "execution_count": null,
      "outputs": [
        {
          "output_type": "stream",
          "name": "stdout",
          "text": [
            "Drive already mounted at /content/drive; to attempt to forcibly remount, call drive.mount(\"/content/drive\", force_remount=True).\n"
          ]
        }
      ]
    },
    {
      "cell_type": "code",
      "source": [
        "#Combine EURUSD datasets\n",
        "EURUSDx = pd.concat([EURUSD1_3, EURUSD5_3, EURUSD15_3, EURUSD30_3], ignore_index=True)\n",
        "\n",
        "#Combine GBPUSD datasets\n",
        "GBPUSDx = pd.concat([GBPUSD1_2, GBPUSD5_2, GBPUSD15_2, GBPUSD30_2], ignore_index=True)\n",
        "\n",
        "#Combine USDCAD datasets\n",
        "USDCADx = pd.concat([USDCAD1, USDCAD5, USDCAD15, USDCAD30], ignore_index=True)\n",
        "\n",
        "#Merge both datasets\n",
        "Big = pd.concat([EURUSDx, GBPUSDx, USDCADx], ignore_index=True)\n",
        "Big['Time'] = pd.to_datetime(Big['Time'])\n",
        "Big = Big.sort_values(by=['Time'])"
      ],
      "metadata": {
        "id": "D18ezBGYlmNj"
      },
      "execution_count": null,
      "outputs": []
    },
    {
      "cell_type": "code",
      "source": [
        "#Initial check\n",
        "print(Big.head(15))\n",
        "print('\\n')\n",
        "print(Big.dtypes)\n",
        "print('\\n')\n",
        "print(Big.shape)"
      ],
      "metadata": {
        "colab": {
          "base_uri": "https://localhost:8080/"
        },
        "id": "zXhpV7PYmJiP",
        "outputId": "31e7f8d6-d20f-4515-af20-28ade57a0dae"
      },
      "execution_count": null,
      "outputs": [
        {
          "output_type": "stream",
          "name": "stdout",
          "text": [
            "                       Time     Open     High      Low    Close  Volume\n",
            "1369117 2008-12-16 06:30:00  1.52810  1.52940  1.52720  1.52850    2074\n",
            "1369118 2008-12-16 07:00:00  1.52850  1.52940  1.52450  1.52530    3769\n",
            "1369119 2008-12-16 07:30:00  1.52525  1.53120  1.52410  1.52940    6964\n",
            "1369120 2008-12-16 08:00:00  1.52925  1.53010  1.52580  1.52665   12089\n",
            "1369121 2008-12-16 08:30:00  1.52660  1.52740  1.52105  1.52170   16300\n",
            "1369122 2008-12-16 09:00:00  1.52170  1.52560  1.52105  1.52520   12405\n",
            "1369123 2008-12-16 09:30:00  1.52480  1.52850  1.52045  1.52350   11497\n",
            "1369124 2008-12-16 10:00:00  1.52350  1.52465  1.52055  1.52165   13134\n",
            "1369125 2008-12-16 10:30:00  1.52160  1.52370  1.52030  1.52295    8341\n",
            "1369126 2008-12-16 11:00:00  1.52295  1.52545  1.52260  1.52510   11960\n",
            "1369127 2008-12-16 11:30:00  1.52500  1.52550  1.52280  1.52480   10905\n",
            "1369128 2008-12-16 12:00:00  1.52460  1.52830  1.52275  1.52480   13987\n",
            "1369129 2008-12-16 12:30:00  1.52480  1.53430  1.52480  1.53040   16558\n",
            "1369130 2008-12-16 13:00:00  1.53040  1.53460  1.53030  1.53350   13193\n",
            "586726  2008-12-16 13:00:00  1.36830  1.37080  1.36815  1.37050   31970\n",
            "\n",
            "\n",
            "Time      datetime64[ns]\n",
            "Open             float64\n",
            "High             float64\n",
            "Low              float64\n",
            "Close            float64\n",
            "Volume             int64\n",
            "dtype: object\n",
            "\n",
            "\n",
            "(2347158, 6)\n"
          ]
        }
      ]
    },
    {
      "cell_type": "code",
      "source": [
        "#Initial check\n",
        "print(Big.info())\n",
        "print('\\n')\n",
        "print(Big.isnull().sum())\n",
        "print('\\n')\n",
        "print(Big.duplicated().sum())"
      ],
      "metadata": {
        "colab": {
          "base_uri": "https://localhost:8080/"
        },
        "id": "KHfuwhHYmNJS",
        "outputId": "6b22462e-6e8d-457d-9a4d-7712e44b6e8f"
      },
      "execution_count": null,
      "outputs": [
        {
          "output_type": "stream",
          "name": "stdout",
          "text": [
            "<class 'pandas.core.frame.DataFrame'>\n",
            "Index: 2347158 entries, 1369117 to 1760293\n",
            "Data columns (total 6 columns):\n",
            " #   Column  Dtype         \n",
            "---  ------  -----         \n",
            " 0   Time    datetime64[ns]\n",
            " 1   Open    float64       \n",
            " 2   High    float64       \n",
            " 3   Low     float64       \n",
            " 4   Close   float64       \n",
            " 5   Volume  int64         \n",
            "dtypes: datetime64[ns](1), float64(4), int64(1)\n",
            "memory usage: 125.4 MB\n",
            "None\n",
            "\n",
            "\n",
            "Time      0\n",
            "Open      0\n",
            "High      0\n",
            "Low       0\n",
            "Close     0\n",
            "Volume    0\n",
            "dtype: int64\n",
            "\n",
            "\n",
            "89\n"
          ]
        }
      ]
    },
    {
      "cell_type": "code",
      "source": [
        "#Implement Complex RSI on CPU\n",
        "\n",
        "def RSI_CPU_Complex(Data, periods=[14, 28], use_ema=True, smoothing=True):\n",
        "\n",
        "    #Loop over all periods\n",
        "    for period in periods:\n",
        "        Delta = Data['Close'].diff()\n",
        "        Gain = Delta.where(Delta > 0, 0)\n",
        "        Loss = -Delta.where(Delta < 0, 0)\n",
        "\n",
        "        #Using Exponential Moving Average (EMA) instead of Simple Moving Average (SMA)\n",
        "        if use_ema:\n",
        "            AverageGain = Gain.ewm(span=period, min_periods=1).mean()\n",
        "            AverageLoss = Loss.ewm(span=period, min_periods=1).mean()\n",
        "        else:\n",
        "            AverageGain = Gain.rolling(window=period, min_periods=1).mean()\n",
        "            AverageLoss = Loss.rolling(window=period, min_periods=1).mean()\n",
        "\n",
        "        RS = AverageGain / AverageLoss\n",
        "        RSI = 100 - (100 / (1 + RS))\n",
        "\n",
        "        #Apply smoothing to RSI\n",
        "        if smoothing:\n",
        "            RSI = RSI.rolling(window=3, min_periods=1).mean()\n",
        "\n",
        "        Data[f'RSI_{period}'] = RSI\n",
        "    return Data[['Time', 'Close'] + [f'RSI_{p}' for p in periods]]\n",
        "\n",
        "#Define periods\n",
        "Periodsx = [7, 14, 21, 28, 35, 42, 49, 56]\n",
        "\n",
        "#Calculate RSI for the defined periods\n",
        "Big = RSI_CPU_Complex(Big, periods=Periodsx)\n",
        "\n",
        "#Display results\n",
        "print(\"Displaying RSI Results with Complexity:\")\n",
        "print('\\n')\n",
        "print(Big[['Time', 'Close'] + [f'RSI_{p}' for p in Periodsx]].head(10).round(2))"
      ],
      "metadata": {
        "colab": {
          "base_uri": "https://localhost:8080/"
        },
        "id": "Wesmp8cDm_oB",
        "outputId": "c8c584b9-c05c-4e6b-ae00-1cd2fda21d1f"
      },
      "execution_count": null,
      "outputs": [
        {
          "output_type": "stream",
          "name": "stdout",
          "text": [
            "Displaying RSI Results with Complexity:\n",
            "\n",
            "\n",
            "                       Time  Close  RSI_7  RSI_14  RSI_21  RSI_28  RSI_35  \\\n",
            "1369117 2008-12-16 06:30:00   1.53    NaN     NaN     NaN     NaN     NaN   \n",
            "1369118 2008-12-16 07:00:00   1.53   0.00    0.00    0.00    0.00    0.00   \n",
            "1369119 2008-12-16 07:30:00   1.53  31.54   29.83   29.25   28.96   28.78   \n",
            "1369120 2008-12-16 08:00:00   1.53  34.47   33.49   33.12   32.93   32.81   \n",
            "1369121 2008-12-16 08:30:00   1.52  41.67   41.70   41.65   41.61   41.58   \n",
            "1369122 2008-12-16 09:00:00   1.53  35.80   36.17   36.27   36.31   36.33   \n",
            "1369123 2008-12-16 09:30:00   1.52  35.02   35.19   35.24   35.27   35.29   \n",
            "1369124 2008-12-16 10:00:00   1.52  38.04   37.94   37.88   37.85   37.83   \n",
            "1369125 2008-12-16 10:30:00   1.52  36.64   36.70   36.72   36.73   36.73   \n",
            "1369126 2008-12-16 11:00:00   1.53  42.67   40.34   39.70   39.41   39.24   \n",
            "\n",
            "         RSI_42  RSI_49  RSI_56  \n",
            "1369117     NaN     NaN     NaN  \n",
            "1369118    0.00    0.00    0.00  \n",
            "1369119   28.67   28.58   28.52  \n",
            "1369120   32.73   32.67   32.63  \n",
            "1369121   41.56   41.54   41.53  \n",
            "1369122   36.35   36.35   36.36  \n",
            "1369123   35.30   35.31   35.31  \n",
            "1369124   37.81   37.80   37.79  \n",
            "1369125   36.73   36.74   36.74  \n",
            "1369126   39.13   39.06   39.00  \n"
          ]
        }
      ]
    },
    {
      "cell_type": "code",
      "source": [
        "#Implement Complex RSI on GPU with Batch Processing (Fixed for EMA)\n",
        "import cudf\n",
        "\n",
        "def RSI_GPU_Complex_Batch(Data, periods=[14, 28], use_ema=True, smoothing=True):\n",
        "    Data = cudf.DataFrame(Data)\n",
        "\n",
        "    Delta = Data['Close'].diff()\n",
        "    Gain = Delta.where(Delta > 0, 0)\n",
        "    Loss = -Delta.where(Delta < 0, 0)\n",
        "\n",
        "    for period in periods:\n",
        "        if use_ema:\n",
        "            #Custom EMA calculation (without min_periods)\n",
        "            AverageGain = Gain.ewm(span=period).mean()\n",
        "            AverageLoss = Loss.ewm(span=period).mean()\n",
        "        else:\n",
        "            AverageGain = Gain.rolling(window=period).mean()\n",
        "            AverageLoss = Loss.rolling(window=period).mean()\n",
        "\n",
        "        RS = AverageGain / AverageLoss\n",
        "        RSI = 100 - (100 / (1 + RS))\n",
        "\n",
        "        #Apply smoothing to RSI\n",
        "        if smoothing:\n",
        "            RSI = RSI.rolling(window=3).mean()\n",
        "\n",
        "        Data[f'RSI_{period}'] = RSI\n",
        "\n",
        "    return Data.to_pandas()\n",
        "\n",
        "#Define periods\n",
        "Periodsx = [7, 14, 21, 28, 35, 42, 49, 56]\n",
        "\n",
        "#Calculate RSI\n",
        "Big = RSI_GPU_Complex_Batch(Big, periods=Periodsx, use_ema=True, smoothing=True)\n",
        "\n",
        "#Display results\n",
        "print(\"Displaying RSI Results with Complexity (GPU Batch Processing):\")\n",
        "print('\\n')\n",
        "print(Big[['Time', 'Close'] + [f'RSI_{p}' for p in Periodsx]].head(10).round(2))"
      ],
      "metadata": {
        "colab": {
          "base_uri": "https://localhost:8080/"
        },
        "id": "pxoeUnsgnwCk",
        "outputId": "d2c65fad-13f3-4fc7-a306-197cea1dffeb"
      },
      "execution_count": null,
      "outputs": [
        {
          "output_type": "stream",
          "name": "stdout",
          "text": [
            "Displaying RSI Results with Complexity (GPU Batch Processing):\n",
            "\n",
            "\n",
            "                       Time  Close  RSI_7  RSI_14  RSI_21  RSI_28  RSI_35  \\\n",
            "1369117 2008-12-16 06:30:00   1.53    NaN     NaN     NaN     NaN     NaN   \n",
            "1369118 2008-12-16 07:00:00   1.53    NaN     NaN     NaN     NaN     NaN   \n",
            "1369119 2008-12-16 07:30:00   1.53    NaN     NaN     NaN     NaN     NaN   \n",
            "1369120 2008-12-16 08:00:00   1.53  34.47   33.49   33.12   32.93   32.81   \n",
            "1369121 2008-12-16 08:30:00   1.52  41.67   41.70   41.65   41.61   41.58   \n",
            "1369122 2008-12-16 09:00:00   1.53  35.80   36.17   36.27   36.31   36.33   \n",
            "1369123 2008-12-16 09:30:00   1.52  35.02   35.19   35.24   35.27   35.29   \n",
            "1369124 2008-12-16 10:00:00   1.52  38.04   37.94   37.88   37.85   37.83   \n",
            "1369125 2008-12-16 10:30:00   1.52  36.64   36.70   36.72   36.73   36.73   \n",
            "1369126 2008-12-16 11:00:00   1.53  42.67   40.34   39.70   39.41   39.24   \n",
            "\n",
            "         RSI_42  RSI_49  RSI_56  \n",
            "1369117     NaN     NaN     NaN  \n",
            "1369118     NaN     NaN     NaN  \n",
            "1369119     NaN     NaN     NaN  \n",
            "1369120   32.73   32.67   32.63  \n",
            "1369121   41.56   41.54   41.53  \n",
            "1369122   36.35   36.35   36.36  \n",
            "1369123   35.30   35.31   35.31  \n",
            "1369124   37.81   37.80   37.79  \n",
            "1369125   36.73   36.74   36.74  \n",
            "1369126   39.13   39.06   39.00  \n"
          ]
        }
      ]
    },
    {
      "cell_type": "code",
      "source": [
        "#Benchmark - Just Computation Time\n",
        "import time\n",
        "import cudf\n",
        "\n",
        "#Define periods\n",
        "periods = [7, 14, 21, 28, 35, 42, 49, 56]\n",
        "\n",
        "#CPU\n",
        "print(\"CPU Benchmarking:\")\n",
        "for period in periods:\n",
        "    start_time = time.time()\n",
        "    Big = RSI_CPU_Complex(Big.copy(), periods=[period], use_ema=True, smoothing=True)  # Copy to prevent side-effects\n",
        "    end_time = time.time()\n",
        "    cpu_time = end_time - start_time\n",
        "    print(f\"  CPU (Period {period}) RSI time: {cpu_time:.6f} seconds\")\n",
        "print('\\n')\n",
        "\n",
        "#GPU\n",
        "print(\"GPU Benchmarking (Batch Processing):\")\n",
        "start_time = time.time()\n",
        "Big = RSI_GPU_Complex_Batch(Big.copy(), periods=periods, use_ema=True, smoothing=True)  #Process all periods in a single batch\n",
        "end_time = time.time()\n",
        "gpu_time = end_time - start_time\n",
        "print(f\"  GPU (Batch for periods {periods}) RSI time: {gpu_time:.6f} seconds\")"
      ],
      "metadata": {
        "colab": {
          "base_uri": "https://localhost:8080/"
        },
        "id": "47qhSRNBoRCz",
        "outputId": "e145ce4e-59d4-4dbe-e640-c3135a53a56e"
      },
      "execution_count": null,
      "outputs": [
        {
          "output_type": "stream",
          "name": "stdout",
          "text": [
            "CPU Benchmarking:\n",
            "  CPU (Period 7) RSI time: 0.251997 seconds\n",
            "  CPU (Period 14) RSI time: 0.199165 seconds\n",
            "  CPU (Period 21) RSI time: 0.205727 seconds\n",
            "  CPU (Period 28) RSI time: 0.206572 seconds\n",
            "  CPU (Period 35) RSI time: 0.195340 seconds\n",
            "  CPU (Period 42) RSI time: 0.216275 seconds\n",
            "  CPU (Period 49) RSI time: 0.199567 seconds\n",
            "  CPU (Period 56) RSI time: 0.209800 seconds\n",
            "\n",
            "\n",
            "GPU Benchmarking (Batch Processing):\n",
            "  GPU (Batch for periods [7, 14, 21, 28, 35, 42, 49, 56]) RSI time: 0.478138 seconds\n"
          ]
        }
      ]
    },
    {
      "cell_type": "code",
      "source": [
        "#Benchmark - Just Computation Time (5 trials for more accuarcy)\n",
        "import time\n",
        "import cudf\n",
        "\n",
        "\n",
        "periods = [7, 14, 21, 28, 35, 42, 49, 56]\n",
        "num_trials = 5\n",
        "\n",
        "\n",
        "#CPU Benchmarking\n",
        "print(\"CPU Benchmarking:\")\n",
        "cpu_times = []  #List to store times for each trial\n",
        "for trial in range(num_trials):\n",
        "    trial_cpu_times = []\n",
        "    for period in periods:\n",
        "        start_time = time.time()\n",
        "        Big = RSI_CPU_Complex(Big.copy(), periods=[period], use_ema=True, smoothing=True)\n",
        "        end_time = time.time()\n",
        "        cpu_time = end_time - start_time\n",
        "        trial_cpu_times.append(cpu_time)\n",
        "        print(f\"  CPU (Trial {trial + 1}, Period {period}) RSI time: {cpu_time:.6f} seconds\")\n",
        "    cpu_times.append(trial_cpu_times)\n",
        "print('\\n')\n",
        "\n",
        "#Calculate average CPU time\n",
        "avg_cpu_times = [sum(times) / num_trials for times in zip(*cpu_times)]\n",
        "for period, avg_time in zip(periods, avg_cpu_times):\n",
        "    print(f\"  Average CPU time for Period {period}: {avg_time:.6f} seconds\")\n",
        "print('\\n')\n",
        "\n",
        "#GPU Benchmarking using Batch Processing\n",
        "print(\"GPU Benchmarking (Batch Processing):\")\n",
        "gpu_times = []  #List to store GPU times for each trial\n",
        "for trial in range(num_trials):\n",
        "    start_time = time.time()\n",
        "    Big = RSI_GPU_Complex_Batch(Big.copy(), periods=periods, use_ema=True, smoothing=True)\n",
        "    end_time = time.time()\n",
        "    gpu_time = end_time - start_time\n",
        "    gpu_times.append(gpu_time)\n",
        "    print(f\"  GPU (Trial {trial + 1}) Batch processing time: {gpu_time:.6f} seconds\")\n",
        "\n",
        "print('\\n')\n",
        "\n",
        "#Calculate average GPU time\n",
        "avg_gpu_time = sum(gpu_times) / num_trials\n",
        "print(f\"  Average GPU time for Batch (Periods {periods}): {avg_gpu_time:.6f} seconds\")"
      ],
      "metadata": {
        "colab": {
          "base_uri": "https://localhost:8080/"
        },
        "id": "LW_qVKVQo259",
        "outputId": "66a13afb-a59f-4ef3-e18a-da07578538a0"
      },
      "execution_count": null,
      "outputs": [
        {
          "output_type": "stream",
          "name": "stdout",
          "text": [
            "CPU Benchmarking:\n",
            "  CPU (Trial 1, Period 7) RSI time: 0.322603 seconds\n",
            "  CPU (Trial 1, Period 14) RSI time: 0.295823 seconds\n",
            "  CPU (Trial 1, Period 21) RSI time: 0.286363 seconds\n",
            "  CPU (Trial 1, Period 28) RSI time: 0.318377 seconds\n",
            "  CPU (Trial 1, Period 35) RSI time: 0.317549 seconds\n",
            "  CPU (Trial 1, Period 42) RSI time: 0.355678 seconds\n",
            "  CPU (Trial 1, Period 49) RSI time: 0.303830 seconds\n",
            "  CPU (Trial 1, Period 56) RSI time: 0.279147 seconds\n",
            "  CPU (Trial 2, Period 7) RSI time: 0.195302 seconds\n",
            "  CPU (Trial 2, Period 14) RSI time: 0.197526 seconds\n",
            "  CPU (Trial 2, Period 21) RSI time: 0.201938 seconds\n",
            "  CPU (Trial 2, Period 28) RSI time: 0.234758 seconds\n",
            "  CPU (Trial 2, Period 35) RSI time: 0.206884 seconds\n",
            "  CPU (Trial 2, Period 42) RSI time: 0.211177 seconds\n",
            "  CPU (Trial 2, Period 49) RSI time: 0.203572 seconds\n",
            "  CPU (Trial 2, Period 56) RSI time: 0.215446 seconds\n",
            "  CPU (Trial 3, Period 7) RSI time: 0.212074 seconds\n",
            "  CPU (Trial 3, Period 14) RSI time: 0.218301 seconds\n",
            "  CPU (Trial 3, Period 21) RSI time: 0.198917 seconds\n",
            "  CPU (Trial 3, Period 28) RSI time: 0.203924 seconds\n",
            "  CPU (Trial 3, Period 35) RSI time: 0.205153 seconds\n",
            "  CPU (Trial 3, Period 42) RSI time: 0.201398 seconds\n",
            "  CPU (Trial 3, Period 49) RSI time: 0.203665 seconds\n",
            "  CPU (Trial 3, Period 56) RSI time: 0.236554 seconds\n",
            "  CPU (Trial 4, Period 7) RSI time: 0.207224 seconds\n",
            "  CPU (Trial 4, Period 14) RSI time: 0.210289 seconds\n",
            "  CPU (Trial 4, Period 21) RSI time: 0.218307 seconds\n",
            "  CPU (Trial 4, Period 28) RSI time: 0.208899 seconds\n",
            "  CPU (Trial 4, Period 35) RSI time: 0.204356 seconds\n",
            "  CPU (Trial 4, Period 42) RSI time: 0.197812 seconds\n",
            "  CPU (Trial 4, Period 49) RSI time: 0.226266 seconds\n",
            "  CPU (Trial 4, Period 56) RSI time: 0.218963 seconds\n",
            "  CPU (Trial 5, Period 7) RSI time: 0.216257 seconds\n",
            "  CPU (Trial 5, Period 14) RSI time: 0.208491 seconds\n",
            "  CPU (Trial 5, Period 21) RSI time: 0.220013 seconds\n",
            "  CPU (Trial 5, Period 28) RSI time: 0.202424 seconds\n",
            "  CPU (Trial 5, Period 35) RSI time: 0.224720 seconds\n",
            "  CPU (Trial 5, Period 42) RSI time: 0.199711 seconds\n",
            "  CPU (Trial 5, Period 49) RSI time: 0.199522 seconds\n",
            "  CPU (Trial 5, Period 56) RSI time: 0.202462 seconds\n",
            "\n",
            "\n",
            "  Average CPU time for Period 7: 0.230692 seconds\n",
            "  Average CPU time for Period 14: 0.226086 seconds\n",
            "  Average CPU time for Period 21: 0.225107 seconds\n",
            "  Average CPU time for Period 28: 0.233676 seconds\n",
            "  Average CPU time for Period 35: 0.231732 seconds\n",
            "  Average CPU time for Period 42: 0.233155 seconds\n",
            "  Average CPU time for Period 49: 0.227371 seconds\n",
            "  Average CPU time for Period 56: 0.230515 seconds\n",
            "\n",
            "\n",
            "GPU Benchmarking (Batch Processing):\n",
            "  GPU (Trial 1) Batch processing time: 0.503435 seconds\n",
            "  GPU (Trial 2) Batch processing time: 0.567796 seconds\n",
            "  GPU (Trial 3) Batch processing time: 0.556526 seconds\n",
            "  GPU (Trial 4) Batch processing time: 0.529261 seconds\n",
            "  GPU (Trial 5) Batch processing time: 0.532775 seconds\n",
            "\n",
            "\n",
            "  Average GPU time for Batch (Periods [7, 14, 21, 28, 35, 42, 49, 56]): 0.537958 seconds\n"
          ]
        }
      ]
    }
  ]
}